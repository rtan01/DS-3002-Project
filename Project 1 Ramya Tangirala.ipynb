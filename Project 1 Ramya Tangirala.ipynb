{
 "cells": [
  {
   "cell_type": "code",
   "execution_count": 1,
   "id": "eb42c99e",
   "metadata": {},
   "outputs": [],
   "source": [
    "#Ramya Tangirala\n",
    "#rt4an"
   ]
  },
  {
   "cell_type": "code",
   "execution_count": 2,
   "id": "3bc1d50c",
   "metadata": {},
   "outputs": [],
   "source": [
    "# import needed libraries\n",
    "\n",
    "import os\n",
    "import numpy\n",
    "import pandas as pd\n",
    "from sqlalchemy import create_engine"
   ]
  },
  {
   "cell_type": "markdown",
   "id": "fd7dd32f",
   "metadata": {},
   "source": [
    "Operation 1: Fetch / download / retrieve a remote data file by URL, or ingest a local file mounted. "
   ]
  },
  {
   "cell_type": "code",
   "execution_count": 3,
   "id": "8bab5ad8",
   "metadata": {},
   "outputs": [
    {
     "data": {
      "text/html": [
       "<div>\n",
       "<style scoped>\n",
       "    .dataframe tbody tr th:only-of-type {\n",
       "        vertical-align: middle;\n",
       "    }\n",
       "\n",
       "    .dataframe tbody tr th {\n",
       "        vertical-align: top;\n",
       "    }\n",
       "\n",
       "    .dataframe thead th {\n",
       "        text-align: right;\n",
       "    }\n",
       "</style>\n",
       "<table border=\"1\" class=\"dataframe\">\n",
       "  <thead>\n",
       "    <tr style=\"text-align: right;\">\n",
       "      <th></th>\n",
       "      <th>Major</th>\n",
       "      <th>Major_category</th>\n",
       "      <th>Total</th>\n",
       "      <th>Employed</th>\n",
       "      <th>Employed_full_time_year_round</th>\n",
       "      <th>Unemployed</th>\n",
       "      <th>Unemployment_rate</th>\n",
       "      <th>Median</th>\n",
       "      <th>P25th</th>\n",
       "      <th>P75th</th>\n",
       "    </tr>\n",
       "    <tr>\n",
       "      <th>Major_code</th>\n",
       "      <th></th>\n",
       "      <th></th>\n",
       "      <th></th>\n",
       "      <th></th>\n",
       "      <th></th>\n",
       "      <th></th>\n",
       "      <th></th>\n",
       "      <th></th>\n",
       "      <th></th>\n",
       "      <th></th>\n",
       "    </tr>\n",
       "  </thead>\n",
       "  <tbody>\n",
       "    <tr>\n",
       "      <th>1100</th>\n",
       "      <td>GENERAL AGRICULTURE</td>\n",
       "      <td>Agriculture &amp; Natural Resources</td>\n",
       "      <td>128148</td>\n",
       "      <td>90245</td>\n",
       "      <td>74078</td>\n",
       "      <td>2423</td>\n",
       "      <td>0.026147</td>\n",
       "      <td>50000</td>\n",
       "      <td>34000</td>\n",
       "      <td>80000.0</td>\n",
       "    </tr>\n",
       "    <tr>\n",
       "      <th>1101</th>\n",
       "      <td>AGRICULTURE PRODUCTION AND MANAGEMENT</td>\n",
       "      <td>Agriculture &amp; Natural Resources</td>\n",
       "      <td>95326</td>\n",
       "      <td>76865</td>\n",
       "      <td>64240</td>\n",
       "      <td>2266</td>\n",
       "      <td>0.028636</td>\n",
       "      <td>54000</td>\n",
       "      <td>36000</td>\n",
       "      <td>80000.0</td>\n",
       "    </tr>\n",
       "    <tr>\n",
       "      <th>1102</th>\n",
       "      <td>AGRICULTURAL ECONOMICS</td>\n",
       "      <td>Agriculture &amp; Natural Resources</td>\n",
       "      <td>33955</td>\n",
       "      <td>26321</td>\n",
       "      <td>22810</td>\n",
       "      <td>821</td>\n",
       "      <td>0.030248</td>\n",
       "      <td>63000</td>\n",
       "      <td>40000</td>\n",
       "      <td>98000.0</td>\n",
       "    </tr>\n",
       "    <tr>\n",
       "      <th>1103</th>\n",
       "      <td>ANIMAL SCIENCES</td>\n",
       "      <td>Agriculture &amp; Natural Resources</td>\n",
       "      <td>103549</td>\n",
       "      <td>81177</td>\n",
       "      <td>64937</td>\n",
       "      <td>3619</td>\n",
       "      <td>0.042679</td>\n",
       "      <td>46000</td>\n",
       "      <td>30000</td>\n",
       "      <td>72000.0</td>\n",
       "    </tr>\n",
       "    <tr>\n",
       "      <th>1104</th>\n",
       "      <td>FOOD SCIENCE</td>\n",
       "      <td>Agriculture &amp; Natural Resources</td>\n",
       "      <td>24280</td>\n",
       "      <td>17281</td>\n",
       "      <td>12722</td>\n",
       "      <td>894</td>\n",
       "      <td>0.049188</td>\n",
       "      <td>62000</td>\n",
       "      <td>38500</td>\n",
       "      <td>90000.0</td>\n",
       "    </tr>\n",
       "  </tbody>\n",
       "</table>\n",
       "</div>"
      ],
      "text/plain": [
       "                                            Major  \\\n",
       "Major_code                                          \n",
       "1100                          GENERAL AGRICULTURE   \n",
       "1101        AGRICULTURE PRODUCTION AND MANAGEMENT   \n",
       "1102                       AGRICULTURAL ECONOMICS   \n",
       "1103                              ANIMAL SCIENCES   \n",
       "1104                                 FOOD SCIENCE   \n",
       "\n",
       "                             Major_category   Total  Employed  \\\n",
       "Major_code                                                      \n",
       "1100        Agriculture & Natural Resources  128148     90245   \n",
       "1101        Agriculture & Natural Resources   95326     76865   \n",
       "1102        Agriculture & Natural Resources   33955     26321   \n",
       "1103        Agriculture & Natural Resources  103549     81177   \n",
       "1104        Agriculture & Natural Resources   24280     17281   \n",
       "\n",
       "            Employed_full_time_year_round  Unemployed  Unemployment_rate  \\\n",
       "Major_code                                                                 \n",
       "1100                                74078        2423           0.026147   \n",
       "1101                                64240        2266           0.028636   \n",
       "1102                                22810         821           0.030248   \n",
       "1103                                64937        3619           0.042679   \n",
       "1104                                12722         894           0.049188   \n",
       "\n",
       "            Median  P25th    P75th  \n",
       "Major_code                          \n",
       "1100         50000  34000  80000.0  \n",
       "1101         54000  36000  80000.0  \n",
       "1102         63000  40000  98000.0  \n",
       "1103         46000  30000  72000.0  \n",
       "1104         62000  38500  90000.0  "
      ]
     },
     "execution_count": 3,
     "metadata": {},
     "output_type": "execute_result"
    }
   ],
   "source": [
    "# Loading College Majors: all-ages.csv dataset from local file - dataset obtained from https://www.kaggle.com/tunguz/college-majors\n",
    "\n",
    "try:\n",
    "    directory = os.path.join(os.getcwd(), 'Project 1 Data') # made a variable for the directory that the data is in\n",
    "    data = os.path.join(directory, 'all-ages.csv') # made a variable for the data in the directory\n",
    "    df = pd.read_csv(data, header=0, index_col=0) # used pandas to read the csv file and make a data frame\n",
    "except AttributeError: #catches an attribute error\n",
    "    print(\"There is an attribute error. Check if the attributes are in the module.\")\n",
    "except FileNotFoundError: #catches a file not found error\n",
    "    print(\"The file is not found. Check the name of the file.\")\n",
    "\n",
    "df.head() #outputs the first couple rows of data\n"
   ]
  },
  {
   "cell_type": "markdown",
   "id": "e5e89862",
   "metadata": {},
   "source": [
    "Operation 2: Modify the number of columns from the source to the destination, reducing or adding columns."
   ]
  },
  {
   "cell_type": "code",
   "execution_count": 4,
   "id": "69685596",
   "metadata": {},
   "outputs": [
    {
     "data": {
      "text/plain": [
       "Index(['Major', 'Major_category', 'Total', 'Employed',\n",
       "       'Employed_full_time_year_round', 'Unemployed', 'Unemployment_rate',\n",
       "       'Median'],\n",
       "      dtype='object')"
      ]
     },
     "execution_count": 4,
     "metadata": {},
     "output_type": "execute_result"
    }
   ],
   "source": [
    "try:\n",
    "    df.drop(['P25th', 'P75th'], axis=1, inplace=True) #dropped two columns\n",
    "except KeyError: #catches a key error\n",
    "    print(\"The columns are not found in the given axis.\")\n",
    "    \n",
    "df.columns #listed the columns in the dataframe"
   ]
  },
  {
   "cell_type": "markdown",
   "id": "ac926adf",
   "metadata": {},
   "source": [
    "Operation 3: Generate a brief summary of the data file ingestion including number of records and number of columns"
   ]
  },
  {
   "cell_type": "code",
   "execution_count": 5,
   "id": "8c95746f",
   "metadata": {},
   "outputs": [
    {
     "name": "stdout",
     "output_type": "stream",
     "text": [
      "Number of columns: 8\n",
      "Number of records: 173\n"
     ]
    }
   ],
   "source": [
    "try:\n",
    "    print(\"Number of columns:\" , len(df.columns)) #printed number of columns\n",
    "except NameError: #catches a name error\n",
    "    print(\"1 or more names are not defined\")\n",
    "except AttributeError: #catches an attribute error\n",
    "    print(\"There is an attribute error. Check if the attributes are in the module.\")\n",
    "    \n",
    "try:\n",
    "    print(\"Number of records:\", len(df.values)) #printed number of records\n",
    "except NameError: #catches a name error\n",
    "    print(\"1 or more names are not defined\")\n",
    "except AttributeError: #catches an attribute error\n",
    "    print(\"There is an attribute error. Check if the attributes are in the module.\")\n",
    "    \n"
   ]
  },
  {
   "cell_type": "code",
   "execution_count": null,
   "id": "580ff273",
   "metadata": {},
   "outputs": [],
   "source": []
  },
  {
   "cell_type": "code",
   "execution_count": null,
   "id": "fc2c333c",
   "metadata": {},
   "outputs": [],
   "source": []
  },
  {
   "cell_type": "code",
   "execution_count": null,
   "id": "c3a66f03",
   "metadata": {},
   "outputs": [],
   "source": []
  }
 ],
 "metadata": {
  "kernelspec": {
   "display_name": "Python 3",
   "language": "python",
   "name": "python3"
  },
  "language_info": {
   "codemirror_mode": {
    "name": "ipython",
    "version": 3
   },
   "file_extension": ".py",
   "mimetype": "text/x-python",
   "name": "python",
   "nbconvert_exporter": "python",
   "pygments_lexer": "ipython3",
   "version": "3.8.8"
  }
 },
 "nbformat": 4,
 "nbformat_minor": 5
}
